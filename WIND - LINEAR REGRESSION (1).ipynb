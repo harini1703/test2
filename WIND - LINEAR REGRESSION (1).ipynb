{
 "cells": [
  {
   "cell_type": "markdown",
   "id": "b8f33da3",
   "metadata": {},
   "source": [
    "# STEP-1 : Reading CSV File"
   ]
  },
  {
   "cell_type": "code",
   "execution_count": 200,
   "id": "996793d8",
   "metadata": {},
   "outputs": [],
   "source": [
    "import pandas as pd"
   ]
  },
  {
   "cell_type": "code",
   "execution_count": 201,
   "id": "762f2df0",
   "metadata": {},
   "outputs": [],
   "source": [
    "data=pd.read_csv(\"C:/Users/Harini/OneDrive/Desktop/selectedfeatures.csv\")"
   ]
  },
  {
   "cell_type": "code",
   "execution_count": 202,
   "id": "6634b5a0",
   "metadata": {},
   "outputs": [
    {
     "data": {
      "text/html": [
       "<div>\n",
       "<style scoped>\n",
       "    .dataframe tbody tr th:only-of-type {\n",
       "        vertical-align: middle;\n",
       "    }\n",
       "\n",
       "    .dataframe tbody tr th {\n",
       "        vertical-align: top;\n",
       "    }\n",
       "\n",
       "    .dataframe thead th {\n",
       "        text-align: right;\n",
       "    }\n",
       "</style>\n",
       "<table border=\"1\" class=\"dataframe\">\n",
       "  <thead>\n",
       "    <tr style=\"text-align: right;\">\n",
       "      <th></th>\n",
       "      <th>MAX TEMP</th>\n",
       "      <th>MIN TEMP</th>\n",
       "      <th>DBT</th>\n",
       "      <th>WBT</th>\n",
       "      <th>DEW POINT TEMPERATURE</th>\n",
       "      <th>WIND SPEED</th>\n",
       "    </tr>\n",
       "  </thead>\n",
       "  <tbody>\n",
       "    <tr>\n",
       "      <th>0</th>\n",
       "      <td>31</td>\n",
       "      <td>21</td>\n",
       "      <td>25</td>\n",
       "      <td>24</td>\n",
       "      <td>23</td>\n",
       "      <td>2</td>\n",
       "    </tr>\n",
       "    <tr>\n",
       "      <th>1</th>\n",
       "      <td>30</td>\n",
       "      <td>20</td>\n",
       "      <td>22</td>\n",
       "      <td>21</td>\n",
       "      <td>21</td>\n",
       "      <td>2</td>\n",
       "    </tr>\n",
       "    <tr>\n",
       "      <th>2</th>\n",
       "      <td>29</td>\n",
       "      <td>20</td>\n",
       "      <td>25</td>\n",
       "      <td>22</td>\n",
       "      <td>21</td>\n",
       "      <td>4</td>\n",
       "    </tr>\n",
       "    <tr>\n",
       "      <th>3</th>\n",
       "      <td>30</td>\n",
       "      <td>20</td>\n",
       "      <td>24</td>\n",
       "      <td>21</td>\n",
       "      <td>20</td>\n",
       "      <td>4</td>\n",
       "    </tr>\n",
       "    <tr>\n",
       "      <th>4</th>\n",
       "      <td>29</td>\n",
       "      <td>19</td>\n",
       "      <td>23</td>\n",
       "      <td>22</td>\n",
       "      <td>21</td>\n",
       "      <td>4</td>\n",
       "    </tr>\n",
       "    <tr>\n",
       "      <th>...</th>\n",
       "      <td>...</td>\n",
       "      <td>...</td>\n",
       "      <td>...</td>\n",
       "      <td>...</td>\n",
       "      <td>...</td>\n",
       "      <td>...</td>\n",
       "    </tr>\n",
       "    <tr>\n",
       "      <th>1972</th>\n",
       "      <td>29</td>\n",
       "      <td>18</td>\n",
       "      <td>32</td>\n",
       "      <td>23</td>\n",
       "      <td>18</td>\n",
       "      <td>14</td>\n",
       "    </tr>\n",
       "    <tr>\n",
       "      <th>1973</th>\n",
       "      <td>29</td>\n",
       "      <td>19</td>\n",
       "      <td>35</td>\n",
       "      <td>23</td>\n",
       "      <td>16</td>\n",
       "      <td>24</td>\n",
       "    </tr>\n",
       "    <tr>\n",
       "      <th>1974</th>\n",
       "      <td>25</td>\n",
       "      <td>20</td>\n",
       "      <td>34</td>\n",
       "      <td>22</td>\n",
       "      <td>15</td>\n",
       "      <td>20</td>\n",
       "    </tr>\n",
       "    <tr>\n",
       "      <th>1975</th>\n",
       "      <td>26</td>\n",
       "      <td>20</td>\n",
       "      <td>33</td>\n",
       "      <td>23</td>\n",
       "      <td>17</td>\n",
       "      <td>12</td>\n",
       "    </tr>\n",
       "    <tr>\n",
       "      <th>1976</th>\n",
       "      <td>27</td>\n",
       "      <td>19</td>\n",
       "      <td>33</td>\n",
       "      <td>24</td>\n",
       "      <td>19</td>\n",
       "      <td>24</td>\n",
       "    </tr>\n",
       "  </tbody>\n",
       "</table>\n",
       "<p>1977 rows × 6 columns</p>\n",
       "</div>"
      ],
      "text/plain": [
       "       MAX TEMP  MIN TEMP  DBT  WBT  DEW POINT TEMPERATURE   WIND SPEED\n",
       "0            31        21   25   24                      23           2\n",
       "1            30        20   22   21                      21           2\n",
       "2            29        20   25   22                      21           4\n",
       "3            30        20   24   21                      20           4\n",
       "4            29        19   23   22                      21           4\n",
       "...         ...       ...  ...  ...                     ...         ...\n",
       "1972         29        18   32   23                      18          14\n",
       "1973         29        19   35   23                      16          24\n",
       "1974         25        20   34   22                      15          20\n",
       "1975         26        20   33   23                      17          12\n",
       "1976         27        19   33   24                      19          24\n",
       "\n",
       "[1977 rows x 6 columns]"
      ]
     },
     "execution_count": 202,
     "metadata": {},
     "output_type": "execute_result"
    }
   ],
   "source": [
    "data"
   ]
  },
  {
   "cell_type": "markdown",
   "id": "a27bb04f",
   "metadata": {},
   "source": [
    "# STEP-2 : Feature Extraction and Data Cleaning"
   ]
  },
  {
   "cell_type": "code",
   "execution_count": 203,
   "id": "62bd5d6c",
   "metadata": {},
   "outputs": [
    {
     "data": {
      "text/plain": [
       "pandas.core.frame.DataFrame"
      ]
     },
     "execution_count": 203,
     "metadata": {},
     "output_type": "execute_result"
    }
   ],
   "source": [
    "type(data)"
   ]
  },
  {
   "cell_type": "code",
   "execution_count": 204,
   "id": "ad2ac9bd",
   "metadata": {},
   "outputs": [
    {
     "data": {
      "text/plain": [
       " MAX TEMP                 int64\n",
       "MIN TEMP                  int64\n",
       "DBT                       int64\n",
       "WBT                       int64\n",
       "DEW POINT TEMPERATURE     int64\n",
       "WIND SPEED                int64\n",
       "dtype: object"
      ]
     },
     "execution_count": 204,
     "metadata": {},
     "output_type": "execute_result"
    }
   ],
   "source": [
    "data.dtypes"
   ]
  },
  {
   "cell_type": "code",
   "execution_count": 205,
   "id": "e250129b",
   "metadata": {},
   "outputs": [
    {
     "data": {
      "text/plain": [
       " MAX TEMP                 0\n",
       "MIN TEMP                  0\n",
       "DBT                       0\n",
       "WBT                       0\n",
       "DEW POINT TEMPERATURE     0\n",
       "WIND SPEED                0\n",
       "dtype: int64"
      ]
     },
     "execution_count": 205,
     "metadata": {},
     "output_type": "execute_result"
    }
   ],
   "source": [
    "data.isnull().sum()"
   ]
  },
  {
   "cell_type": "code",
   "execution_count": 206,
   "id": "3838ec2d",
   "metadata": {},
   "outputs": [
    {
     "data": {
      "text/plain": [
       "4     340\n",
       "6     305\n",
       "8     294\n",
       "2     285\n",
       "10    186\n",
       "12    140\n",
       "14    108\n",
       "0     106\n",
       "16     61\n",
       "18     44\n",
       "20     37\n",
       "22     30\n",
       "24     18\n",
       "28      6\n",
       "26      6\n",
       "30      5\n",
       "32      4\n",
       "42      1\n",
       "40      1\n",
       "Name: WIND SPEED, dtype: int64"
      ]
     },
     "execution_count": 206,
     "metadata": {},
     "output_type": "execute_result"
    }
   ],
   "source": [
    "data['WIND SPEED'].value_counts()"
   ]
  },
  {
   "cell_type": "code",
   "execution_count": 207,
   "id": "878e9e03",
   "metadata": {},
   "outputs": [
    {
     "data": {
      "text/html": [
       "<div>\n",
       "<style scoped>\n",
       "    .dataframe tbody tr th:only-of-type {\n",
       "        vertical-align: middle;\n",
       "    }\n",
       "\n",
       "    .dataframe tbody tr th {\n",
       "        vertical-align: top;\n",
       "    }\n",
       "\n",
       "    .dataframe thead th {\n",
       "        text-align: right;\n",
       "    }\n",
       "</style>\n",
       "<table border=\"1\" class=\"dataframe\">\n",
       "  <thead>\n",
       "    <tr style=\"text-align: right;\">\n",
       "      <th></th>\n",
       "      <th>MAX TEMP</th>\n",
       "      <th>MIN TEMP</th>\n",
       "      <th>DBT</th>\n",
       "      <th>WBT</th>\n",
       "      <th>DEW POINT TEMPERATURE</th>\n",
       "      <th>WIND SPEED</th>\n",
       "    </tr>\n",
       "  </thead>\n",
       "  <tbody>\n",
       "    <tr>\n",
       "      <th>0</th>\n",
       "      <td>False</td>\n",
       "      <td>False</td>\n",
       "      <td>False</td>\n",
       "      <td>False</td>\n",
       "      <td>False</td>\n",
       "      <td>False</td>\n",
       "    </tr>\n",
       "    <tr>\n",
       "      <th>1</th>\n",
       "      <td>False</td>\n",
       "      <td>False</td>\n",
       "      <td>False</td>\n",
       "      <td>False</td>\n",
       "      <td>False</td>\n",
       "      <td>False</td>\n",
       "    </tr>\n",
       "    <tr>\n",
       "      <th>2</th>\n",
       "      <td>False</td>\n",
       "      <td>False</td>\n",
       "      <td>False</td>\n",
       "      <td>False</td>\n",
       "      <td>False</td>\n",
       "      <td>False</td>\n",
       "    </tr>\n",
       "    <tr>\n",
       "      <th>3</th>\n",
       "      <td>False</td>\n",
       "      <td>False</td>\n",
       "      <td>False</td>\n",
       "      <td>False</td>\n",
       "      <td>False</td>\n",
       "      <td>False</td>\n",
       "    </tr>\n",
       "    <tr>\n",
       "      <th>4</th>\n",
       "      <td>False</td>\n",
       "      <td>False</td>\n",
       "      <td>False</td>\n",
       "      <td>False</td>\n",
       "      <td>False</td>\n",
       "      <td>False</td>\n",
       "    </tr>\n",
       "    <tr>\n",
       "      <th>...</th>\n",
       "      <td>...</td>\n",
       "      <td>...</td>\n",
       "      <td>...</td>\n",
       "      <td>...</td>\n",
       "      <td>...</td>\n",
       "      <td>...</td>\n",
       "    </tr>\n",
       "    <tr>\n",
       "      <th>1972</th>\n",
       "      <td>False</td>\n",
       "      <td>False</td>\n",
       "      <td>False</td>\n",
       "      <td>False</td>\n",
       "      <td>False</td>\n",
       "      <td>False</td>\n",
       "    </tr>\n",
       "    <tr>\n",
       "      <th>1973</th>\n",
       "      <td>False</td>\n",
       "      <td>False</td>\n",
       "      <td>False</td>\n",
       "      <td>False</td>\n",
       "      <td>False</td>\n",
       "      <td>False</td>\n",
       "    </tr>\n",
       "    <tr>\n",
       "      <th>1974</th>\n",
       "      <td>False</td>\n",
       "      <td>False</td>\n",
       "      <td>False</td>\n",
       "      <td>False</td>\n",
       "      <td>False</td>\n",
       "      <td>False</td>\n",
       "    </tr>\n",
       "    <tr>\n",
       "      <th>1975</th>\n",
       "      <td>False</td>\n",
       "      <td>False</td>\n",
       "      <td>False</td>\n",
       "      <td>False</td>\n",
       "      <td>False</td>\n",
       "      <td>False</td>\n",
       "    </tr>\n",
       "    <tr>\n",
       "      <th>1976</th>\n",
       "      <td>False</td>\n",
       "      <td>False</td>\n",
       "      <td>False</td>\n",
       "      <td>False</td>\n",
       "      <td>False</td>\n",
       "      <td>False</td>\n",
       "    </tr>\n",
       "  </tbody>\n",
       "</table>\n",
       "<p>1977 rows × 6 columns</p>\n",
       "</div>"
      ],
      "text/plain": [
       "       MAX TEMP  MIN TEMP    DBT    WBT  DEW POINT TEMPERATURE   WIND SPEED\n",
       "0         False     False  False  False                   False       False\n",
       "1         False     False  False  False                   False       False\n",
       "2         False     False  False  False                   False       False\n",
       "3         False     False  False  False                   False       False\n",
       "4         False     False  False  False                   False       False\n",
       "...         ...       ...    ...    ...                     ...         ...\n",
       "1972      False     False  False  False                   False       False\n",
       "1973      False     False  False  False                   False       False\n",
       "1974      False     False  False  False                   False       False\n",
       "1975      False     False  False  False                   False       False\n",
       "1976      False     False  False  False                   False       False\n",
       "\n",
       "[1977 rows x 6 columns]"
      ]
     },
     "execution_count": 207,
     "metadata": {},
     "output_type": "execute_result"
    }
   ],
   "source": [
    "data.isnull()"
   ]
  },
  {
   "cell_type": "code",
   "execution_count": null,
   "id": "2dee01e7",
   "metadata": {},
   "outputs": [],
   "source": []
  },
  {
   "cell_type": "code",
   "execution_count": 208,
   "id": "47fd043b",
   "metadata": {},
   "outputs": [],
   "source": [
    "#data['WIND SPEED']=data['WIND SPEED'].map({'0':0,\"2\":2,'4':4,\"6\":6,\"8\":8,\"10\":10,\"12\":12,\"14\":14,'16':16,\"18\":18,'20':20,\"22\":22,\"24\":24,\"28\":28,\"26\":26,\"30\":30,'32':32,\"40\":40,\"42\":42})"
   ]
  },
  {
   "cell_type": "code",
   "execution_count": 209,
   "id": "764856f7",
   "metadata": {},
   "outputs": [
    {
     "data": {
      "text/plain": [
       "0"
      ]
     },
     "execution_count": 209,
     "metadata": {},
     "output_type": "execute_result"
    }
   ],
   "source": [
    " data[\"WIND SPEED\"].isnull().sum()\n",
    "#print(\"Number of null values in 'WIND SPEED' column:\", num_null_values)\n"
   ]
  },
  {
   "cell_type": "code",
   "execution_count": 210,
   "id": "75dfbb65",
   "metadata": {},
   "outputs": [
    {
     "data": {
      "text/plain": [
       "0        2\n",
       "1        2\n",
       "2        4\n",
       "3        4\n",
       "4        4\n",
       "        ..\n",
       "1972    14\n",
       "1973    24\n",
       "1974    20\n",
       "1975    12\n",
       "1976    24\n",
       "Name: WIND SPEED, Length: 1977, dtype: int64"
      ]
     },
     "execution_count": 210,
     "metadata": {},
     "output_type": "execute_result"
    }
   ],
   "source": [
    "data['WIND SPEED']"
   ]
  },
  {
   "cell_type": "code",
   "execution_count": 211,
   "id": "ea73d479",
   "metadata": {},
   "outputs": [],
   "source": [
    "# Replace null values in the \"WIND SPEED\" column with 0\n",
    "#data[\"WIND SPEED\"].fillna(0, inplace=True)\n"
   ]
  },
  {
   "cell_type": "code",
   "execution_count": 212,
   "id": "f4364e16",
   "metadata": {},
   "outputs": [
    {
     "data": {
      "text/plain": [
       " MAX TEMP                 int64\n",
       "MIN TEMP                  int64\n",
       "DBT                       int64\n",
       "WBT                       int64\n",
       "DEW POINT TEMPERATURE     int64\n",
       "WIND SPEED                int64\n",
       "dtype: object"
      ]
     },
     "execution_count": 212,
     "metadata": {},
     "output_type": "execute_result"
    }
   ],
   "source": [
    "data.dtypes"
   ]
  },
  {
   "cell_type": "code",
   "execution_count": 213,
   "id": "c2fe3f89",
   "metadata": {},
   "outputs": [],
   "source": [
    "\n",
    "data['WIND SPEED'] = data['WIND SPEED'].astype(int)\n"
   ]
  },
  {
   "cell_type": "code",
   "execution_count": 214,
   "id": "b8e02fba",
   "metadata": {},
   "outputs": [
    {
     "data": {
      "text/plain": [
       " MAX TEMP                 int64\n",
       "MIN TEMP                  int64\n",
       "DBT                       int64\n",
       "WBT                       int64\n",
       "DEW POINT TEMPERATURE     int64\n",
       "WIND SPEED                int32\n",
       "dtype: object"
      ]
     },
     "execution_count": 214,
     "metadata": {},
     "output_type": "execute_result"
    }
   ],
   "source": [
    "data.dtypes"
   ]
  },
  {
   "cell_type": "code",
   "execution_count": 215,
   "id": "c7a68945",
   "metadata": {},
   "outputs": [
    {
     "data": {
      "text/plain": [
       " MAX TEMP                 0\n",
       "MIN TEMP                  0\n",
       "DBT                       0\n",
       "WBT                       0\n",
       "DEW POINT TEMPERATURE     0\n",
       "WIND SPEED                0\n",
       "dtype: int64"
      ]
     },
     "execution_count": 215,
     "metadata": {},
     "output_type": "execute_result"
    }
   ],
   "source": [
    "data.isnull().sum()"
   ]
  },
  {
   "cell_type": "markdown",
   "id": "d597ab97",
   "metadata": {},
   "source": [
    "# STEP 3 : EDA"
   ]
  },
  {
   "cell_type": "code",
   "execution_count": 216,
   "id": "eb0c32d9",
   "metadata": {},
   "outputs": [],
   "source": [
    "import matplotlib.pyplot as plt\n"
   ]
  },
  {
   "cell_type": "code",
   "execution_count": 217,
   "id": "98f1023a",
   "metadata": {},
   "outputs": [
    {
     "data": {
      "text/html": [
       "<div>\n",
       "<style scoped>\n",
       "    .dataframe tbody tr th:only-of-type {\n",
       "        vertical-align: middle;\n",
       "    }\n",
       "\n",
       "    .dataframe tbody tr th {\n",
       "        vertical-align: top;\n",
       "    }\n",
       "\n",
       "    .dataframe thead th {\n",
       "        text-align: right;\n",
       "    }\n",
       "</style>\n",
       "<table border=\"1\" class=\"dataframe\">\n",
       "  <thead>\n",
       "    <tr style=\"text-align: right;\">\n",
       "      <th></th>\n",
       "      <th>MAX TEMP</th>\n",
       "      <th>MIN TEMP</th>\n",
       "      <th>DBT</th>\n",
       "      <th>WBT</th>\n",
       "      <th>DEW POINT TEMPERATURE</th>\n",
       "      <th>WIND SPEED</th>\n",
       "    </tr>\n",
       "  </thead>\n",
       "  <tbody>\n",
       "    <tr>\n",
       "      <th>MAX TEMP</th>\n",
       "      <td>1.000000</td>\n",
       "      <td>0.499179</td>\n",
       "      <td>0.109359</td>\n",
       "      <td>0.170343</td>\n",
       "      <td>0.061094</td>\n",
       "      <td>0.053557</td>\n",
       "    </tr>\n",
       "    <tr>\n",
       "      <th>MIN TEMP</th>\n",
       "      <td>0.499179</td>\n",
       "      <td>1.000000</td>\n",
       "      <td>0.150446</td>\n",
       "      <td>0.229736</td>\n",
       "      <td>0.099416</td>\n",
       "      <td>0.036611</td>\n",
       "    </tr>\n",
       "    <tr>\n",
       "      <th>DBT</th>\n",
       "      <td>0.109359</td>\n",
       "      <td>0.150446</td>\n",
       "      <td>1.000000</td>\n",
       "      <td>0.372967</td>\n",
       "      <td>-0.409989</td>\n",
       "      <td>0.407353</td>\n",
       "    </tr>\n",
       "    <tr>\n",
       "      <th>WBT</th>\n",
       "      <td>0.170343</td>\n",
       "      <td>0.229736</td>\n",
       "      <td>0.372967</td>\n",
       "      <td>1.000000</td>\n",
       "      <td>0.658905</td>\n",
       "      <td>0.105765</td>\n",
       "    </tr>\n",
       "    <tr>\n",
       "      <th>DEW POINT TEMPERATURE</th>\n",
       "      <td>0.061094</td>\n",
       "      <td>0.099416</td>\n",
       "      <td>-0.409989</td>\n",
       "      <td>0.658905</td>\n",
       "      <td>1.000000</td>\n",
       "      <td>-0.209833</td>\n",
       "    </tr>\n",
       "    <tr>\n",
       "      <th>WIND SPEED</th>\n",
       "      <td>0.053557</td>\n",
       "      <td>0.036611</td>\n",
       "      <td>0.407353</td>\n",
       "      <td>0.105765</td>\n",
       "      <td>-0.209833</td>\n",
       "      <td>1.000000</td>\n",
       "    </tr>\n",
       "  </tbody>\n",
       "</table>\n",
       "</div>"
      ],
      "text/plain": [
       "                         MAX TEMP  MIN TEMP       DBT       WBT  \\\n",
       " MAX TEMP                1.000000  0.499179  0.109359  0.170343   \n",
       "MIN TEMP                 0.499179  1.000000  0.150446  0.229736   \n",
       "DBT                      0.109359  0.150446  1.000000  0.372967   \n",
       "WBT                      0.170343  0.229736  0.372967  1.000000   \n",
       "DEW POINT TEMPERATURE    0.061094  0.099416 -0.409989  0.658905   \n",
       "WIND SPEED               0.053557  0.036611  0.407353  0.105765   \n",
       "\n",
       "                        DEW POINT TEMPERATURE   WIND SPEED  \n",
       " MAX TEMP                             0.061094    0.053557  \n",
       "MIN TEMP                              0.099416    0.036611  \n",
       "DBT                                  -0.409989    0.407353  \n",
       "WBT                                   0.658905    0.105765  \n",
       "DEW POINT TEMPERATURE                 1.000000   -0.209833  \n",
       "WIND SPEED                           -0.209833    1.000000  "
      ]
     },
     "execution_count": 217,
     "metadata": {},
     "output_type": "execute_result"
    }
   ],
   "source": [
    "data.corr()"
   ]
  },
  {
   "cell_type": "code",
   "execution_count": 218,
   "id": "8ecee87c",
   "metadata": {},
   "outputs": [
    {
     "data": {
      "text/plain": [
       "<seaborn.axisgrid.PairGrid at 0x1dcfa0ab550>"
      ]
     },
     "execution_count": 218,
     "metadata": {},
     "output_type": "execute_result"
    },
    {
     "data": {
      "image/png": "[encoded data removed]",
      "text/plain": [
       "<Figure size 1080x1080 with 42 Axes>"
      ]
     },
     "metadata": {
      "needs_background": "light"
     },
     "output_type": "display_data"
    }
   ],
   "source": [
    "import seaborn as sns\n",
    "sns.pairplot(data)"
   ]
  },
  {
   "cell_type": "code",
   "execution_count": 219,
   "id": "95dc3a5c",
   "metadata": {},
   "outputs": [
    {
     "data": {
      "text/html": [
       "<div>\n",
       "<style scoped>\n",
       "    .dataframe tbody tr th:only-of-type {\n",
       "        vertical-align: middle;\n",
       "    }\n",
       "\n",
       "    .dataframe tbody tr th {\n",
       "        vertical-align: top;\n",
       "    }\n",
       "\n",
       "    .dataframe thead th {\n",
       "        text-align: right;\n",
       "    }\n",
       "</style>\n",
       "<table border=\"1\" class=\"dataframe\">\n",
       "  <thead>\n",
       "    <tr style=\"text-align: right;\">\n",
       "      <th></th>\n",
       "      <th>MAX TEMP</th>\n",
       "      <th>MIN TEMP</th>\n",
       "      <th>DBT</th>\n",
       "      <th>WBT</th>\n",
       "      <th>DEW POINT TEMPERATURE</th>\n",
       "      <th>WIND SPEED</th>\n",
       "    </tr>\n",
       "  </thead>\n",
       "  <tbody>\n",
       "    <tr>\n",
       "      <th>MAX TEMP</th>\n",
       "      <td>1.000000</td>\n",
       "      <td>0.499179</td>\n",
       "      <td>0.109359</td>\n",
       "      <td>0.170343</td>\n",
       "      <td>0.061094</td>\n",
       "      <td>0.053557</td>\n",
       "    </tr>\n",
       "    <tr>\n",
       "      <th>MIN TEMP</th>\n",
       "      <td>0.499179</td>\n",
       "      <td>1.000000</td>\n",
       "      <td>0.150446</td>\n",
       "      <td>0.229736</td>\n",
       "      <td>0.099416</td>\n",
       "      <td>0.036611</td>\n",
       "    </tr>\n",
       "    <tr>\n",
       "      <th>DBT</th>\n",
       "      <td>0.109359</td>\n",
       "      <td>0.150446</td>\n",
       "      <td>1.000000</td>\n",
       "      <td>0.372967</td>\n",
       "      <td>-0.409989</td>\n",
       "      <td>0.407353</td>\n",
       "    </tr>\n",
       "    <tr>\n",
       "      <th>WBT</th>\n",
       "      <td>0.170343</td>\n",
       "      <td>0.229736</td>\n",
       "      <td>0.372967</td>\n",
       "      <td>1.000000</td>\n",
       "      <td>0.658905</td>\n",
       "      <td>0.105765</td>\n",
       "    </tr>\n",
       "    <tr>\n",
       "      <th>DEW POINT TEMPERATURE</th>\n",
       "      <td>0.061094</td>\n",
       "      <td>0.099416</td>\n",
       "      <td>-0.409989</td>\n",
       "      <td>0.658905</td>\n",
       "      <td>1.000000</td>\n",
       "      <td>-0.209833</td>\n",
       "    </tr>\n",
       "    <tr>\n",
       "      <th>WIND SPEED</th>\n",
       "      <td>0.053557</td>\n",
       "      <td>0.036611</td>\n",
       "      <td>0.407353</td>\n",
       "      <td>0.105765</td>\n",
       "      <td>-0.209833</td>\n",
       "      <td>1.000000</td>\n",
       "    </tr>\n",
       "  </tbody>\n",
       "</table>\n",
       "</div>"
      ],
      "text/plain": [
       "                         MAX TEMP  MIN TEMP       DBT       WBT  \\\n",
       " MAX TEMP                1.000000  0.499179  0.109359  0.170343   \n",
       "MIN TEMP                 0.499179  1.000000  0.150446  0.229736   \n",
       "DBT                      0.109359  0.150446  1.000000  0.372967   \n",
       "WBT                      0.170343  0.229736  0.372967  1.000000   \n",
       "DEW POINT TEMPERATURE    0.061094  0.099416 -0.409989  0.658905   \n",
       "WIND SPEED               0.053557  0.036611  0.407353  0.105765   \n",
       "\n",
       "                        DEW POINT TEMPERATURE   WIND SPEED  \n",
       " MAX TEMP                             0.061094    0.053557  \n",
       "MIN TEMP                              0.099416    0.036611  \n",
       "DBT                                  -0.409989    0.407353  \n",
       "WBT                                   0.658905    0.105765  \n",
       "DEW POINT TEMPERATURE                 1.000000   -0.209833  \n",
       "WIND SPEED                           -0.209833    1.000000  "
      ]
     },
     "execution_count": 219,
     "metadata": {},
     "output_type": "execute_result"
    }
   ],
   "source": [
    "data.corr()\n",
    "#negative is indirectly prop incres and dec if its postive one incresase other also increases"
   ]
  },
  {
   "cell_type": "markdown",
   "id": "405abb65",
   "metadata": {},
   "source": [
    "# STEP 4 : Training and Testing "
   ]
  },
  {
   "cell_type": "markdown",
   "id": "d7b92fd2",
   "metadata": {},
   "source": [
    "# CASE 1 : Using Linear Regression"
   ]
  },
  {
   "cell_type": "code",
   "execution_count": 220,
   "id": "613c6884",
   "metadata": {},
   "outputs": [],
   "source": [
    "x=data.drop('WIND SPEED',axis=1)"
   ]
  },
  {
   "cell_type": "code",
   "execution_count": 221,
   "id": "8e309121",
   "metadata": {},
   "outputs": [
    {
     "data": {
      "text/html": [
       "<div>\n",
       "<style scoped>\n",
       "    .dataframe tbody tr th:only-of-type {\n",
       "        vertical-align: middle;\n",
       "    }\n",
       "\n",
       "    .dataframe tbody tr th {\n",
       "        vertical-align: top;\n",
       "    }\n",
       "\n",
       "    .dataframe thead th {\n",
       "        text-align: right;\n",
       "    }\n",
       "</style>\n",
       "<table border=\"1\" class=\"dataframe\">\n",
       "  <thead>\n",
       "    <tr style=\"text-align: right;\">\n",
       "      <th></th>\n",
       "      <th>MAX TEMP</th>\n",
       "      <th>MIN TEMP</th>\n",
       "      <th>DBT</th>\n",
       "      <th>WBT</th>\n",
       "      <th>DEW POINT TEMPERATURE</th>\n",
       "    </tr>\n",
       "  </thead>\n",
       "  <tbody>\n",
       "    <tr>\n",
       "      <th>0</th>\n",
       "      <td>31</td>\n",
       "      <td>21</td>\n",
       "      <td>25</td>\n",
       "      <td>24</td>\n",
       "      <td>23</td>\n",
       "    </tr>\n",
       "    <tr>\n",
       "      <th>1</th>\n",
       "      <td>30</td>\n",
       "      <td>20</td>\n",
       "      <td>22</td>\n",
       "      <td>21</td>\n",
       "      <td>21</td>\n",
       "    </tr>\n",
       "    <tr>\n",
       "      <th>2</th>\n",
       "      <td>29</td>\n",
       "      <td>20</td>\n",
       "      <td>25</td>\n",
       "      <td>22</td>\n",
       "      <td>21</td>\n",
       "    </tr>\n",
       "    <tr>\n",
       "      <th>3</th>\n",
       "      <td>30</td>\n",
       "      <td>20</td>\n",
       "      <td>24</td>\n",
       "      <td>21</td>\n",
       "      <td>20</td>\n",
       "    </tr>\n",
       "    <tr>\n",
       "      <th>4</th>\n",
       "      <td>29</td>\n",
       "      <td>19</td>\n",
       "      <td>23</td>\n",
       "      <td>22</td>\n",
       "      <td>21</td>\n",
       "    </tr>\n",
       "    <tr>\n",
       "      <th>...</th>\n",
       "      <td>...</td>\n",
       "      <td>...</td>\n",
       "      <td>...</td>\n",
       "      <td>...</td>\n",
       "      <td>...</td>\n",
       "    </tr>\n",
       "    <tr>\n",
       "      <th>1972</th>\n",
       "      <td>29</td>\n",
       "      <td>18</td>\n",
       "      <td>32</td>\n",
       "      <td>23</td>\n",
       "      <td>18</td>\n",
       "    </tr>\n",
       "    <tr>\n",
       "      <th>1973</th>\n",
       "      <td>29</td>\n",
       "      <td>19</td>\n",
       "      <td>35</td>\n",
       "      <td>23</td>\n",
       "      <td>16</td>\n",
       "    </tr>\n",
       "    <tr>\n",
       "      <th>1974</th>\n",
       "      <td>25</td>\n",
       "      <td>20</td>\n",
       "      <td>34</td>\n",
       "      <td>22</td>\n",
       "      <td>15</td>\n",
       "    </tr>\n",
       "    <tr>\n",
       "      <th>1975</th>\n",
       "      <td>26</td>\n",
       "      <td>20</td>\n",
       "      <td>33</td>\n",
       "      <td>23</td>\n",
       "      <td>17</td>\n",
       "    </tr>\n",
       "    <tr>\n",
       "      <th>1976</th>\n",
       "      <td>27</td>\n",
       "      <td>19</td>\n",
       "      <td>33</td>\n",
       "      <td>24</td>\n",
       "      <td>19</td>\n",
       "    </tr>\n",
       "  </tbody>\n",
       "</table>\n",
       "<p>1977 rows × 5 columns</p>\n",
       "</div>"
      ],
      "text/plain": [
       "       MAX TEMP  MIN TEMP  DBT  WBT  DEW POINT TEMPERATURE \n",
       "0            31        21   25   24                      23\n",
       "1            30        20   22   21                      21\n",
       "2            29        20   25   22                      21\n",
       "3            30        20   24   21                      20\n",
       "4            29        19   23   22                      21\n",
       "...         ...       ...  ...  ...                     ...\n",
       "1972         29        18   32   23                      18\n",
       "1973         29        19   35   23                      16\n",
       "1974         25        20   34   22                      15\n",
       "1975         26        20   33   23                      17\n",
       "1976         27        19   33   24                      19\n",
       "\n",
       "[1977 rows x 5 columns]"
      ]
     },
     "execution_count": 221,
     "metadata": {},
     "output_type": "execute_result"
    }
   ],
   "source": [
    "x"
   ]
  },
  {
   "cell_type": "code",
   "execution_count": 222,
   "id": "df2b6e92",
   "metadata": {},
   "outputs": [],
   "source": [
    "y=data[\"WIND SPEED\"]"
   ]
  },
  {
   "cell_type": "code",
   "execution_count": 223,
   "id": "3300d0e2",
   "metadata": {},
   "outputs": [
    {
     "data": {
      "text/plain": [
       "0        2\n",
       "1        2\n",
       "2        4\n",
       "3        4\n",
       "4        4\n",
       "        ..\n",
       "1972    14\n",
       "1973    24\n",
       "1974    20\n",
       "1975    12\n",
       "1976    24\n",
       "Name: WIND SPEED, Length: 1977, dtype: int32"
      ]
     },
     "execution_count": 223,
     "metadata": {},
     "output_type": "execute_result"
    }
   ],
   "source": [
    "y"
   ]
  },
  {
   "cell_type": "code",
   "execution_count": 224,
   "id": "54876f5c",
   "metadata": {},
   "outputs": [],
   "source": [
    "from sklearn.model_selection import train_test_split\n",
    "x_train,x_test,y_train,y_test=train_test_split(x,y,test_size=0.25,random_state=42)"
   ]
  },
  {
   "cell_type": "code",
   "execution_count": 225,
   "id": "04a57a8a",
   "metadata": {},
   "outputs": [],
   "source": [
    "from sklearn.preprocessing import StandardScaler"
   ]
  },
  {
   "cell_type": "code",
   "execution_count": 226,
   "id": "f01a0027",
   "metadata": {},
   "outputs": [],
   "source": [
    "scaler=StandardScaler()\n",
    "x_train=scaler.fit_transform(x_train)\n",
    "x_test=scaler.fit_transform(x_test)"
   ]
  },
  {
   "cell_type": "code",
   "execution_count": 227,
   "id": "fa59d182",
   "metadata": {},
   "outputs": [
    {
     "data": {
      "text/plain": [
       "array([[-0.54923205, -0.44651574, -0.16505915, -0.11284   , -0.15608946],\n",
       "       [ 1.71098842,  1.4398478 ,  0.88932731,  1.17353595,  0.51055198],\n",
       "       [ 0.86340575, -0.06924303,  0.36213408,  0.53034798,  0.51055198],\n",
       "       ...,\n",
       "       [ 1.42846086,  1.4398478 , -0.955849  , -0.75602797,  0.17723126],\n",
       "       [-1.11428717, -0.06924303, -1.74663884, -1.39921594,  0.17723126],\n",
       "       [-0.26670449, -0.06924303,  0.88932731,  0.53034798, -0.48941018]])"
      ]
     },
     "execution_count": 227,
     "metadata": {},
     "output_type": "execute_result"
    }
   ],
   "source": [
    "x_train"
   ]
  },
  {
   "cell_type": "code",
   "execution_count": 228,
   "id": "b18e036c",
   "metadata": {},
   "outputs": [],
   "source": [
    "from sklearn.linear_model import LinearRegression\n",
    "regression=LinearRegression()"
   ]
  },
  {
   "cell_type": "code",
   "execution_count": 229,
   "id": "02cb1c2d",
   "metadata": {},
   "outputs": [
    {
     "data": {
      "text/plain": [
       "LinearRegression()"
      ]
     },
     "execution_count": 229,
     "metadata": {},
     "output_type": "execute_result"
    }
   ],
   "source": [
    "regression.fit(x_train,y_train)"
   ]
  },
  {
   "cell_type": "code",
   "execution_count": 230,
   "id": "da1969d3",
   "metadata": {},
   "outputs": [],
   "source": [
    "## cross validation cross val score ,cross validation method ,give x train , y train its creates a cross validation\n",
    "from sklearn.model_selection import cross_val_score\n",
    "validation_score=cross_val_score(regression,x_train,y_train,scoring='neg_mean_squared_error',\n",
    "                                cv=3)"
   ]
  },
  {
   "cell_type": "code",
   "execution_count": 231,
   "id": "f6311380",
   "metadata": {},
   "outputs": [
    {
     "data": {
      "text/plain": [
       "-28.928688986377555"
      ]
     },
     "execution_count": 231,
     "metadata": {},
     "output_type": "execute_result"
    }
   ],
   "source": [
    "import numpy as np\n",
    "np.mean(validation_score)"
   ]
  },
  {
   "cell_type": "code",
   "execution_count": 232,
   "id": "9208c8ac",
   "metadata": {},
   "outputs": [],
   "source": [
    "## prediction\n",
    "y_pred=regression.predict(x_test)"
   ]
  },
  {
   "cell_type": "code",
   "execution_count": 233,
   "id": "c259a6a1",
   "metadata": {},
   "outputs": [
    {
     "data": {
      "text/plain": [
       "array([ 7.24489767,  7.20877013,  4.03602156,  9.57685028,  7.88925796,\n",
       "        5.41925744,  3.83307584, 10.5486684 ,  8.12074168,  6.73821315,\n",
       "        3.58617075,  2.38461063,  6.75632191,  9.24330312,  7.81737501,\n",
       "       11.30339056,  7.95099458,  7.77309366, 10.88103363,  4.24302427,\n",
       "        8.82509238,  6.81202228,  7.28852553,  6.21086386, 10.26935676,\n",
       "        7.80082031,  4.70410614,  7.29876184,  7.01902499,  6.19732728,\n",
       "        7.09920559, 11.72839428, 10.0409458 ,  7.79780218, 12.09499699,\n",
       "        6.51499174,  7.39620001, 11.2477987 ,  8.82655646,  6.43413913,\n",
       "        7.22461748,  8.93234615,  3.80222783,  8.3534612 ,  6.6497755 ,\n",
       "        6.70967592,  7.6081109 ,  8.75283731,  6.49908604,  8.72001005,\n",
       "        6.05465334, 10.72143363, 10.20465665,  7.2460796 , 12.23352474,\n",
       "       12.02155998,  3.98517551,  6.99346976,  8.1542763 ,  4.32504107,\n",
       "        7.62170134,  9.4831331 ,  6.41388722,  5.41925744,  7.87873951,\n",
       "        9.61627809,  9.590333  ,  5.24654607,  3.7924661 , 11.49572863,\n",
       "        5.2231939 , 11.09299838,  7.19819782,  7.56622925,  6.09988911,\n",
       "        9.88289908,  7.63140921,  4.94568234, 11.80614663,  6.00084303,\n",
       "        4.39735   ,  4.63185107,  9.09873912,  8.17125173,  9.23839494,\n",
       "        6.03809863,  6.14766317, 12.07731421, 10.65375074,  7.94769431,\n",
       "        7.34535396,  6.99195183, 11.93880498, 10.58031374,  5.81152309,\n",
       "        7.25956231,  9.81992667,  6.77589474,  5.59461481, 10.43004948,\n",
       "        9.86662652, 12.85873819,  7.06496811,  6.96030649, 10.56375903,\n",
       "        9.21349398,  4.95775484,  7.75639512,  8.46328936, 12.43750932,\n",
       "        7.81133876,  9.88171715,  3.4619363 ,  8.19455003,  4.84790816,\n",
       "        9.38408701,  7.80685656,  8.20842262,  9.40253178,  9.28678714,\n",
       "        6.90074207,  8.2129948 ,  8.12649579,  7.39955414,  7.32583499,\n",
       "        7.01039582,  7.76889283, 10.36566686,  8.04702254, 11.16638152,\n",
       "        5.15886514,  8.19945822,  7.81435689, 11.1754359 ,  5.04628247,\n",
       "        6.09078087,  6.02159779,  8.92112034,  4.50677069,  6.14766317,\n",
       "       10.86749705,  5.10009278, 11.16638152, 10.01344666,  6.54624722,\n",
       "        6.57752043,  4.48125159,  9.4348792 ,  5.46373123,  6.99496996,\n",
       "       10.29798397, 11.22024569,  7.26565243,  7.56448304,  6.27854675,\n",
       "        6.61062984,  5.17914532,  8.18814243,  4.16053288,  7.82870405,\n",
       "        8.41249718,  5.11971948,  5.33950204,  2.68660244,  6.01697175,\n",
       "        7.60881825,  6.80443197, 11.64147456,  6.01550767, 10.66734118,\n",
       "        5.5152854 ,  8.12951392,  8.18592164,  4.90964478,  8.25775073,\n",
       "        4.38065145,  8.03046784, 11.15284494, 11.57963022, 12.29629945,\n",
       "        6.95512143,  5.74487906,  8.7829286 ,  5.58268615,  9.60688771,\n",
       "        4.27873108, 11.21345272,  3.98221125,  4.88705382,  8.49498856,\n",
       "        9.62764247, 12.30690788,  3.68030865, 11.04629853,  7.92812148,\n",
       "       11.12007154,  7.48345573, 12.37732675, 11.49696519, 10.73048801,\n",
       "        6.02791618,  9.95963635,  6.25420958,  6.80443197,  5.4400122 ,\n",
       "        7.29876184,  8.81155581,  6.86281446, 10.88405176,  8.42716183,\n",
       "        4.46012471, 10.31459253,  4.9803458 ,  8.14606863,  6.81018608,\n",
       "       12.4992998 ,  7.21480638,  7.81737501,  6.30689182,  6.28430086,\n",
       "        9.11831195,  7.44138192, 12.12094207,  6.19850921,  6.11181777,\n",
       "        8.19945822,  7.10524185,  8.5337621 , 10.28892959, 11.01318912,\n",
       "       12.22607827,  5.07335563, 10.99361629,  5.33950204,  7.87123918,\n",
       "        8.35265062,  5.55891326, 10.06393111, 10.1941382 ,  5.97221582,\n",
       "       11.63236632,  4.58029768,  7.64579171,  3.36751625,  6.35957406,\n",
       "        4.10370445,  5.01430113, 11.29557275,  6.32415387,  7.47595541,\n",
       "        4.39244182,  4.98773083,  6.89022362,  6.93960559, 11.04629853,\n",
       "        5.45958503,  9.87988095,  5.93278801, 11.10492705,  4.7835794 ,\n",
       "        9.66405214,  4.45866063,  6.11040756,  6.96634275, 11.45960109,\n",
       "        9.14510297,  8.68543656,  7.17669959,  5.40572086, 11.54953894,\n",
       "        5.11023989, 11.78722049,  7.04917013,  5.53485823, 10.28892959,\n",
       "        7.76167465,  6.05163521, 10.37590317,  7.54222808,  6.94978804,\n",
       "        7.87011111, 10.41504883,  4.63444399,  7.35144408, 10.62512353,\n",
       "        7.78572968,  4.09888625,  6.27981866,  3.48009891,  7.9329758 ,\n",
       "        3.32228047,  9.87412684, 11.40079339,  6.0143796 ,  8.08763228,\n",
       "        6.69943961,  9.12256664,  4.87687137,  9.23089461,  8.26011536,\n",
       "        7.48170952,  7.56930124,  7.31828081, 12.41043616,  8.45282477,\n",
       "        6.73976721,  9.41006745,  7.46543695,  4.23208509,  9.85610806,\n",
       "        7.10746264,  7.85959266,  7.38153536,  4.73721555, 11.14412657,\n",
       "        7.32583499,  5.38916616,  7.7677109 ,  4.76730684,  7.24300761,\n",
       "        4.92016323,  8.33274178, 10.93980598,  6.63623892,  6.03809863,\n",
       "        6.00504308,  7.95821276,  6.67383053,  4.67401486,  8.33274178,\n",
       "       12.25724376,  3.70667445, 12.11485196,  7.70932841,  5.58150422,\n",
       "        6.75778598,  8.96210143,  8.05754099,  6.63959305,  6.70363967,\n",
       "       10.43910386,  6.80409597,  6.4208847 ,  6.03809863, 11.76452181,\n",
       "        5.68946084,  7.18197912,  7.98494992,  6.68590304,  7.20877013,\n",
       "        9.10666543,  4.95775484, 10.74659372,  6.76046811,  6.34414742,\n",
       "        6.03093431,  7.27197082,  8.48404412, 12.23767093, 10.3747751 ,\n",
       "        5.69106875,  7.660511  , 11.24430072,  6.64345711,  8.20182285,\n",
       "        6.86281446,  8.88801093, 10.0391096 ,  6.42466403,  5.15395696,\n",
       "        7.57051929,  8.13022127,  7.11877842,  4.9803458 ,  7.56750117,\n",
       "        7.74813807,  6.27104643,  7.54113536,  7.64159166,  8.14451457,\n",
       "        7.2102342 , 10.99059817,  8.37179746, 12.76237422,  7.31229842,\n",
       "        8.67827224, 12.85572006,  5.84161437, 12.17777051, 12.26361602,\n",
       "        5.35450269,  3.77289327,  6.94676992,  7.43232754,  7.86034938,\n",
       "        6.42319996, 10.23926548,  9.20108547, 11.11068116,  4.74023368,\n",
       "        9.31366814,  9.90723625,  6.05583527,  7.80082031,  7.78431946,\n",
       "        9.8967178 ,  4.24906052, 11.010171  ,  8.55629919,  4.90360853,\n",
       "       13.02513116,  6.73373095,  6.81348635,  6.81013222,  7.89199395,\n",
       "       10.05594645,  6.59709326, 10.51107679,  9.11718388,  7.14886971,\n",
       "        8.54611675,  7.85468448,  7.60655685,  6.10431745,  5.06844745,\n",
       "        7.75002812,  9.83955336,  9.53868962,  8.62671807,  7.26291644,\n",
       "        5.55555913,  6.80900415,  7.09920559,  4.8351283 ,  7.34092563,\n",
       "        6.78943132, 10.73835968,  7.73460149, 12.91556662,  7.7842656 ,\n",
       "        3.82298259, 12.18197057, 12.1973972 , 10.43462166,  4.12181321,\n",
       "        6.88988762, 11.90153086, 11.09139047, 12.59409119,  4.30848636,\n",
       "        4.57727955,  6.54441102,  7.60433605, 10.59229626,  7.13835125,\n",
       "        5.80850496,  4.30777901,  7.17264259,  8.05565094,  8.1158335 ,\n",
       "        9.51317052,  6.84055951,  4.07516722,  5.24121268,  2.48365672,\n",
       "        4.30132204,  9.79465359,  8.78019261,  7.75752845, 12.12094207,\n",
       "        5.56193138,  8.3824059 , 11.129805  ,  4.62057141,  7.29870798,\n",
       "        6.61666609,  5.18706636, 11.69221288, 11.56005739,  9.78267106,\n",
       "        6.26024583, 10.53484968, 10.3582204 ,  7.2851714 ,  5.98127019,\n",
       "       12.17178812,  6.59407513,  6.75632191, 11.22391731,  9.90275405,\n",
       "        5.69521495,  5.00110056,  7.94651238,  9.42926893,  9.73032482])"
      ]
     },
     "execution_count": 233,
     "metadata": {},
     "output_type": "execute_result"
    }
   ],
   "source": [
    "y_pred"
   ]
  },
  {
   "cell_type": "code",
   "execution_count": 234,
   "id": "fce36caf",
   "metadata": {},
   "outputs": [
    {
     "name": "stdout",
     "output_type": "stream",
     "text": [
      "24.770998389748954\n",
      "3.8264721653155735\n",
      "4.977047155668605\n"
     ]
    }
   ],
   "source": [
    "## Performance Metrics\n",
    "from sklearn.metrics import mean_absolute_error,mean_squared_error\n",
    "mse=mean_squared_error(y_test,y_pred)\n",
    "mae=mean_absolute_error(y_test,y_pred)\n",
    "rmse=np.sqrt(mse)\n",
    "print(mse)\n",
    "print(mae)\n",
    "print(rmse)"
   ]
  },
  {
   "cell_type": "code",
   "execution_count": 235,
   "id": "a631a45a",
   "metadata": {},
   "outputs": [
    {
     "name": "stdout",
     "output_type": "stream",
     "text": [
      "0.18855638093788507\n",
      "0.18025941141782253\n"
     ]
    }
   ],
   "source": [
    "from sklearn.metrics import r2_score\n",
    "score=r2_score(y_test,y_pred)\n",
    "print(score)\n",
    "#display adjusted R-squared\n",
    "print(1 - (1-score)*(len(y_test)-1)/(len(y_test)-x_test.shape[1]-1))"
   ]
  },
  {
   "cell_type": "code",
   "execution_count": 236,
   "id": "321f7ba6",
   "metadata": {},
   "outputs": [
    {
     "data": {
      "text/plain": [
       "<matplotlib.collections.PathCollection at 0x1dcfcc1cf70>"
      ]
     },
     "execution_count": 236,
     "metadata": {},
     "output_type": "execute_result"
    },
    {
     "data": {
      "image/png": "[encoded data removed]",
      "text/plain": [
       "<Figure size 432x288 with 1 Axes>"
      ]
     },
     "metadata": {
      "needs_background": "light"
     },
     "output_type": "display_data"
    }
   ],
   "source": [
    "#Assumptions\n",
    "plt.scatter(y_test,y_pred)"
   ]
  },
  {
   "cell_type": "code",
   "execution_count": 237,
   "id": "e2a5587a",
   "metadata": {},
   "outputs": [
    {
     "name": "stdout",
     "output_type": "stream",
     "text": [
      "1827    -3.244898\n",
      "1889     6.791230\n",
      "678     -4.036022\n",
      "351      6.423150\n",
      "1105     0.110742\n",
      "          ...    \n",
      "1530     0.304785\n",
      "670     -1.001101\n",
      "874     -3.946512\n",
      "482     14.570731\n",
      "422     -3.730325\n",
      "Name: WIND SPEED, Length: 495, dtype: float64\n"
     ]
    }
   ],
   "source": [
    "residuals=y_test-y_pred\n",
    "print(residuals)"
   ]
  },
  {
   "cell_type": "code",
   "execution_count": 238,
   "id": "19821e35",
   "metadata": {},
   "outputs": [
    {
     "data": {
      "text/plain": [
       "<seaborn.axisgrid.FacetGrid at 0x1dcfcc17190>"
      ]
     },
     "execution_count": 238,
     "metadata": {},
     "output_type": "execute_result"
    },
    {
     "data": {
      "image/png": "[encoded data removed]",
      "text/plain": [
       "<Figure size 360x360 with 1 Axes>"
      ]
     },
     "metadata": {
      "needs_background": "light"
     },
     "output_type": "display_data"
    }
   ],
   "source": [
    "## Plot this residuals\n",
    "sns.displot(residuals,kind='kde') #kernal density estimation\n",
    "#normal distribution the model we have created is good"
   ]
  },
  {
   "cell_type": "code",
   "execution_count": 239,
   "id": "efde602c",
   "metadata": {},
   "outputs": [
    {
     "data": {
      "text/plain": [
       "<matplotlib.collections.PathCollection at 0x1dcfe102310>"
      ]
     },
     "execution_count": 239,
     "metadata": {},
     "output_type": "execute_result"
    },
    {
     "data": {
      "image/png": "[encoded data removed]",
      "text/plain": [
       "<Figure size 432x288 with 1 Axes>"
      ]
     },
     "metadata": {
      "needs_background": "light"
     },
     "output_type": "display_data"
    }
   ],
   "source": [
    "## scatter plot with respect to prediction and residuals\n",
    "plt.scatter(y_pred,residuals)"
   ]
  },
  {
   "cell_type": "code",
   "execution_count": 240,
   "id": "cf35084f",
   "metadata": {},
   "outputs": [],
   "source": [
    "import statsmodels.api as sm\n",
    "model=sm.OLS(y_train,x_train).fit()"
   ]
  },
  {
   "cell_type": "code",
   "execution_count": 241,
   "id": "956d7c95",
   "metadata": {},
   "outputs": [
    {
     "data": {
      "text/html": [
       "<table class=\"simpletable\">\n",
       "<caption>OLS Regression Results</caption>\n",
       "<tr>\n",
       "  <th>Dep. Variable:</th>       <td>WIND SPEED</td>    <th>  R-squared (uncentered):</th>      <td>   0.058</td> \n",
       "</tr>\n",
       "<tr>\n",
       "  <th>Model:</th>                   <td>OLS</td>       <th>  Adj. R-squared (uncentered):</th> <td>   0.055</td> \n",
       "</tr>\n",
       "<tr>\n",
       "  <th>Method:</th>             <td>Least Squares</td>  <th>  F-statistic:       </th>          <td>   18.35</td> \n",
       "</tr>\n",
       "<tr>\n",
       "  <th>Date:</th>             <td>Tue, 02 Apr 2024</td> <th>  Prob (F-statistic):</th>          <td>1.04e-17</td> \n",
       "</tr>\n",
       "<tr>\n",
       "  <th>Time:</th>                 <td>21:46:45</td>     <th>  Log-Likelihood:    </th>          <td> -5435.0</td> \n",
       "</tr>\n",
       "<tr>\n",
       "  <th>No. Observations:</th>      <td>  1482</td>      <th>  AIC:               </th>          <td>1.088e+04</td>\n",
       "</tr>\n",
       "<tr>\n",
       "  <th>Df Residuals:</th>          <td>  1477</td>      <th>  BIC:               </th>          <td>1.091e+04</td>\n",
       "</tr>\n",
       "<tr>\n",
       "  <th>Df Model:</th>              <td>     5</td>      <th>                     </th>              <td> </td>    \n",
       "</tr>\n",
       "<tr>\n",
       "  <th>Covariance Type:</th>      <td>nonrobust</td>    <th>                     </th>              <td> </td>    \n",
       "</tr>\n",
       "</table>\n",
       "<table class=\"simpletable\">\n",
       "<tr>\n",
       "   <td></td>     <th>coef</th>     <th>std err</th>      <th>t</th>      <th>P>|t|</th>  <th>[0.025</th>    <th>0.975]</th>  \n",
       "</tr>\n",
       "<tr>\n",
       "  <th>x1</th> <td>    0.0568</td> <td>    0.287</td> <td>    0.198</td> <td> 0.843</td> <td>   -0.506</td> <td>    0.620</td>\n",
       "</tr>\n",
       "<tr>\n",
       "  <th>x2</th> <td>   -0.0355</td> <td>    0.290</td> <td>   -0.122</td> <td> 0.903</td> <td>   -0.605</td> <td>    0.534</td>\n",
       "</tr>\n",
       "<tr>\n",
       "  <th>x3</th> <td>    2.5852</td> <td>    0.813</td> <td>    3.178</td> <td> 0.002</td> <td>    0.990</td> <td>    4.181</td>\n",
       "</tr>\n",
       "<tr>\n",
       "  <th>x4</th> <td>   -0.4274</td> <td>    0.998</td> <td>   -0.428</td> <td> 0.668</td> <td>   -2.384</td> <td>    1.529</td>\n",
       "</tr>\n",
       "<tr>\n",
       "  <th>x5</th> <td>    0.2019</td> <td>    1.024</td> <td>    0.197</td> <td> 0.844</td> <td>   -1.807</td> <td>    2.210</td>\n",
       "</tr>\n",
       "</table>\n",
       "<table class=\"simpletable\">\n",
       "<tr>\n",
       "  <th>Omnibus:</th>       <td>398.737</td> <th>  Durbin-Watson:     </th> <td>   0.637</td> \n",
       "</tr>\n",
       "<tr>\n",
       "  <th>Prob(Omnibus):</th> <td> 0.000</td>  <th>  Jarque-Bera (JB):  </th> <td>1157.732</td> \n",
       "</tr>\n",
       "<tr>\n",
       "  <th>Skew:</th>          <td> 1.366</td>  <th>  Prob(JB):          </th> <td>4.00e-252</td>\n",
       "</tr>\n",
       "<tr>\n",
       "  <th>Kurtosis:</th>      <td> 6.359</td>  <th>  Cond. No.          </th> <td>    9.01</td> \n",
       "</tr>\n",
       "</table><br/><br/>Notes:<br/>[1] R² is computed without centering (uncentered) since the model does not contain a constant.<br/>[2] Standard Errors assume that the covariance matrix of the errors is correctly specified."
      ],
      "text/plain": [
       "<class 'statsmodels.iolib.summary.Summary'>\n",
       "\"\"\"\n",
       "                                 OLS Regression Results                                \n",
       "=======================================================================================\n",
       "Dep. Variable:             WIND SPEED   R-squared (uncentered):                   0.058\n",
       "Model:                            OLS   Adj. R-squared (uncentered):              0.055\n",
       "Method:                 Least Squares   F-statistic:                              18.35\n",
       "Date:                Tue, 02 Apr 2024   Prob (F-statistic):                    1.04e-17\n",
       "Time:                        21:46:45   Log-Likelihood:                         -5435.0\n",
       "No. Observations:                1482   AIC:                                  1.088e+04\n",
       "Df Residuals:                    1477   BIC:                                  1.091e+04\n",
       "Df Model:                           5                                                  \n",
       "Covariance Type:            nonrobust                                                  \n",
       "==============================================================================\n",
       "                 coef    std err          t      P>|t|      [0.025      0.975]\n",
       "------------------------------------------------------------------------------\n",
       "x1             0.0568      0.287      0.198      0.843      -0.506       0.620\n",
       "x2            -0.0355      0.290     -0.122      0.903      -0.605       0.534\n",
       "x3             2.5852      0.813      3.178      0.002       0.990       4.181\n",
       "x4            -0.4274      0.998     -0.428      0.668      -2.384       1.529\n",
       "x5             0.2019      1.024      0.197      0.844      -1.807       2.210\n",
       "==============================================================================\n",
       "Omnibus:                      398.737   Durbin-Watson:                   0.637\n",
       "Prob(Omnibus):                  0.000   Jarque-Bera (JB):             1157.732\n",
       "Skew:                           1.366   Prob(JB):                    4.00e-252\n",
       "Kurtosis:                       6.359   Cond. No.                         9.01\n",
       "==============================================================================\n",
       "\n",
       "Notes:\n",
       "[1] R² is computed without centering (uncentered) since the model does not contain a constant.\n",
       "[2] Standard Errors assume that the covariance matrix of the errors is correctly specified.\n",
       "\"\"\""
      ]
     },
     "execution_count": 241,
     "metadata": {},
     "output_type": "execute_result"
    }
   ],
   "source": [
    "model.summary()"
   ]
  },
  {
   "cell_type": "code",
   "execution_count": 242,
   "id": "23606a69",
   "metadata": {},
   "outputs": [
    {
     "name": "stdout",
     "output_type": "stream",
     "text": [
      "[ 0.05677195 -0.03552104  2.58517599 -0.42738132  0.20190004]\n"
     ]
    }
   ],
   "source": [
    "print(regression.coef_)"
   ]
  },
  {
   "cell_type": "markdown",
   "id": "b2a86596",
   "metadata": {},
   "source": [
    "# CASE 2 : Support vector regressor"
   ]
  },
  {
   "cell_type": "code",
   "execution_count": 243,
   "id": "5ad09c1a",
   "metadata": {},
   "outputs": [],
   "source": [
    "from sklearn.svm import SVR"
   ]
  },
  {
   "cell_type": "code",
   "execution_count": 244,
   "id": "4c4d36f1",
   "metadata": {},
   "outputs": [],
   "source": [
    "x1=data.drop('WIND SPEED',axis=1)"
   ]
  },
  {
   "cell_type": "code",
   "execution_count": 245,
   "id": "d6072499",
   "metadata": {},
   "outputs": [],
   "source": [
    "y1=data[\"WIND SPEED\"]"
   ]
  },
  {
   "cell_type": "code",
   "execution_count": 246,
   "id": "687f82cb",
   "metadata": {},
   "outputs": [],
   "source": [
    "x1_train,x1_test,y1_train,y1_test=train_test_split(x1,y1,test_size=0.25,random_state=42)"
   ]
  },
  {
   "cell_type": "code",
   "execution_count": 247,
   "id": "fc8396a8",
   "metadata": {},
   "outputs": [],
   "source": [
    "from sklearn.preprocessing import StandardScaler\n",
    "scaler=StandardScaler()\n",
    "#x_train=scaler.fit_transform(x_train)\n",
    "#x_test=scaler.fit_transform(x_test)\n",
    "x_train_scaled = scaler.fit_transform(x1_train)\n",
    "x_test_scaled = scaler.transform(x1_test)"
   ]
  },
  {
   "cell_type": "code",
   "execution_count": 248,
   "id": "5b94143d",
   "metadata": {},
   "outputs": [],
   "source": [
    "## cross validation cross val score ,cross validation method ,give x train , y train its creates a cross validation\n",
    "from sklearn.model_selection import cross_val_score\n",
    "validation_score=cross_val_score(regression,x1_train,y1_train,scoring='neg_mean_squared_error',\n",
    "                                cv=3)"
   ]
  },
  {
   "cell_type": "code",
   "execution_count": 249,
   "id": "daf99345",
   "metadata": {},
   "outputs": [],
   "source": [
    "# Initialize SVR model\n",
    "svr = SVR(kernel='rbf', C=1.0, epsilon=0.1)"
   ]
  },
  {
   "cell_type": "code",
   "execution_count": 250,
   "id": "bac3c04b",
   "metadata": {},
   "outputs": [
    {
     "data": {
      "text/plain": [
       "SVR()"
      ]
     },
     "execution_count": 250,
     "metadata": {},
     "output_type": "execute_result"
    }
   ],
   "source": [
    "svr.fit(x_train_scaled, y1_train)"
   ]
  },
  {
   "cell_type": "code",
   "execution_count": 251,
   "id": "3300ddb1",
   "metadata": {},
   "outputs": [],
   "source": [
    "# Predict on the test set\n",
    "y_pred1 = svr.predict(x_test_scaled)"
   ]
  },
  {
   "cell_type": "code",
   "execution_count": 252,
   "id": "0114a1d3",
   "metadata": {},
   "outputs": [
    {
     "data": {
      "text/plain": [
       "array([ 7.84564354,  7.48980222,  2.23848738, 11.8864823 ,  8.66928755,\n",
       "        3.90037492,  4.06258836, 11.90963271,  9.94525015,  6.9862281 ,\n",
       "        2.91769087,  2.24703151,  8.07523534, 11.22149353,  5.50914918,\n",
       "        7.04631901,  7.87102909,  4.77689358,  8.74936514,  2.11812461,\n",
       "        9.19840609,  9.07528972,  7.39367118,  6.09453395,  8.02159791,\n",
       "        5.27027081,  3.68858974, 10.14870967,  7.52636212,  6.49975617,\n",
       "        4.448758  ,  7.62582459, 10.19117319,  4.88848492,  8.5019739 ,\n",
       "        6.16323229,  9.35211255,  6.31181327, 10.73170692,  5.72958084,\n",
       "        4.23922706,  9.20954756,  2.30316426,  5.24548458,  6.01864955,\n",
       "        8.20186067,  8.49553111, 10.84490522,  4.78039532, 11.93834948,\n",
       "        4.49388179,  9.19615443,  6.59821783, 10.05013632,  8.31180309,\n",
       "        6.92124403,  1.79794643,  5.74496688,  5.18402548,  3.17919992,\n",
       "        6.59715018,  5.81676157,  8.22661046,  3.90037492,  9.18892226,\n",
       "        8.99289358,  7.42886799,  4.32830265,  3.60825235,  8.5588029 ,\n",
       "        3.19853517,  8.64289094,  5.46918897,  7.47575543,  8.61330526,\n",
       "        8.95371371,  4.37344455,  2.08976008,  9.22444678,  5.61882446,\n",
       "        3.32570634,  2.77158836, 11.18286312, 10.37048055, 13.08521594,\n",
       "        4.48844512,  6.55822501,  8.15234977,  7.26498689, 11.01244801,\n",
       "        6.23824555,  8.49966615,  7.66149128, 12.18430055,  3.93640722,\n",
       "        6.24326996,  9.51941085,  8.40855201,  2.91331412, 14.02509109,\n",
       "       12.48635811,  7.54185086,  6.20707322,  7.67246936, 11.70384872,\n",
       "       10.35204334,  3.05555259,  5.57755309,  5.1190031 ,  8.41347888,\n",
       "        4.79757547, 11.6358305 ,  1.69084194,  4.27093273,  3.5820532 ,\n",
       "        9.40639676,  6.44718183,  5.24256994,  9.29858653,  7.49013923,\n",
       "        6.63396112,  5.33706532,  9.03881711,  8.98570685, 10.36146989,\n",
       "        4.99130212,  8.86532677,  7.77888596, 10.25009583,  8.97150888,\n",
       "        3.69467463,  5.51403654,  5.06382709, 11.02418086,  4.32942822,\n",
       "        4.9379779 ,  7.21077107,  6.13151629,  1.80909137,  6.55822501,\n",
       "        8.2707174 ,  3.98828147,  8.97150888, 10.73472321,  4.84825812,\n",
       "        5.63382435,  2.602855  , 11.09197763,  4.4131621 ,  9.14837421,\n",
       "        9.16875992,  8.65471739, 10.13022079,  8.5853168 ,  5.51658636,\n",
       "        5.53777678,  4.09984198,  8.49201633,  1.777864  ,  4.43285475,\n",
       "        6.95335815,  3.93971779,  4.30720236,  3.01472148,  3.90025584,\n",
       "        3.69152461,  6.77384333,  7.00517855,  3.89015766,  6.86963427,\n",
       "        5.72392368,  8.9124889 ,  5.71045908,  5.16181033,  4.0379874 ,\n",
       "        1.57559829, 10.3854777 ,  8.89514124,  8.23991453, 11.33958289,\n",
       "        5.44479882,  5.19986557, 11.02242964,  5.72136445,  7.49283187,\n",
       "        2.70127627,  8.687796  ,  2.26281287,  4.41701583, 10.71077791,\n",
       "       12.23338279,  9.13701041,  2.74697571, 10.76193549, 11.22700094,\n",
       "       10.12189083,  7.34626375,  7.27129985,  7.88858529,  8.19744958,\n",
       "        5.04522892,  9.79126706,  6.96846032,  6.77384333,  4.88952829,\n",
       "       10.14870967,  9.21816346,  7.3079793 ,  8.3138857 ,  5.04992614,\n",
       "        1.91480851,  9.75972376,  3.54859028,  9.03771492,  8.45634381,\n",
       "        6.26705809,  7.93189174,  5.50914918,  6.86455738,  6.65861816,\n",
       "        9.99171655,  9.1204948 ,  8.34151534,  6.92406842,  3.93001345,\n",
       "        5.51403654,  5.0876358 , 12.04092406,  7.61523358,  9.90995926,\n",
       "        5.74310999,  3.75736336,  9.63710082,  4.30720236,  8.29367445,\n",
       "        7.54490446,  5.00227231,  6.57562732,  7.10632686,  4.4485512 ,\n",
       "        9.87476878,  2.5921649 ,  5.44023192,  1.98392409,  7.49289077,\n",
       "        1.71055755,  4.38614295,  6.57116596,  3.672406  ,  8.69102254,\n",
       "        2.69338233,  8.07496804,  7.32412365,  7.78294996, 10.76193549,\n",
       "        5.17704285,  9.61715489,  6.85425246, 12.43578134,  5.29870681,\n",
       "        8.28950452,  2.48469784,  7.56653141,  7.50655862,  9.33987461,\n",
       "       11.24022729, 10.56638725,  6.13679118,  4.19310189,  8.04051449,\n",
       "        4.52157324,  7.51546473,  6.08522369,  6.12295311,  7.61523358,\n",
       "        4.68538921,  4.17726648, 12.16037053,  8.5380735 ,  7.65281979,\n",
       "        9.41819075,  9.97211784,  2.32746018,  9.69101012,  9.6531751 ,\n",
       "        5.03616908,  2.29548633,  7.88420892,  2.49260658,  9.69090657,\n",
       "        1.63067814, 13.49916561,  9.10636203,  5.28404258, 10.49342493,\n",
       "        6.22784577,  6.46597561,  4.21128068, 10.437817  ,  7.38714355,\n",
       "        9.05495266,  7.18210119,  6.93468993,  7.18575656,  9.74509525,\n",
       "        8.11042108,  5.19338371,  8.64334047,  2.98200093, 10.56302713,\n",
       "        4.92198764, 10.40327443,  9.59291081,  3.65229193, 11.5351929 ,\n",
       "       10.36146989,  4.22614455,  4.83396484,  3.4339134 ,  6.33587834,\n",
       "        4.17035982,  6.00004242,  9.57313671,  6.38384077,  4.48844512,\n",
       "        7.19844859, 11.47884279,  5.33661264,  4.15246733,  6.00004242,\n",
       "        8.10006094,  3.04261796,  7.17671886,  6.67132575,  5.56507556,\n",
       "        7.3974843 ,  6.10558469, 10.73987175,  6.83557743,  8.22710609,\n",
       "       11.73087653,  6.91479046,  5.69535979,  4.48844512,  8.04668133,\n",
       "        4.43783229,  5.16355672, 10.00815444,  6.66470076,  7.48980222,\n",
       "       12.09790436,  3.05555259,  6.01719599,  7.09597856,  6.45566195,\n",
       "        5.31513618,  7.39750825, 10.00481638,  8.38251885, 10.53677821,\n",
       "        5.80393626,  6.1758508 ,  9.646628  ,  7.94833155,  5.7660575 ,\n",
       "        7.3079793 ,  6.26738725,  7.45959445,  3.90131115,  4.03104792,\n",
       "        9.51805849,  4.61166133,  4.85678217,  3.54859028,  8.88095948,\n",
       "        4.6039253 ,  5.8301101 ,  4.03572113,  3.75240132,  9.78838254,\n",
       "        7.90573686, 10.44943272,  7.46969341,  8.24690298, 10.34656872,\n",
       "       11.13862393,  7.61660775,  3.77346092,  8.19520944,  8.40017365,\n",
       "        2.82509963,  3.51167533,  7.76478444,  8.94627151,  5.06746369,\n",
       "        4.78477722,  7.54429562,  9.82390404, 11.47998514,  3.92795646,\n",
       "       11.39670812, 13.51211575,  6.08563698,  5.27027081,  9.88400668,\n",
       "       12.83393333,  2.22696394,  9.71877192,  8.26584864,  4.29604387,\n",
       "        6.71490223,  8.12643498,  7.62510994,  6.9925121 , 10.37679611,\n",
       "        9.30402976,  5.64513611,  9.3217211 , 11.0112644 ,  4.83236994,\n",
       "        9.6634612 ,  8.43545567,  6.58137235,  4.57325904,  2.93896037,\n",
       "        7.28047353, 10.72099836, 10.98559797, 12.23600781,  7.47292821,\n",
       "        5.37579243,  8.50514558,  4.448758  ,  2.19176304, 10.1207292 ,\n",
       "        8.04064597,  6.52783521,  4.56301477,  7.94335015,  5.03859694,\n",
       "        2.75058557, 11.41008421,  8.43651507, 10.67467731,  1.11030659,\n",
       "        6.65858781,  6.9611067 , 12.55640158,  7.70884627,  3.33650414,\n",
       "        2.25780112,  5.73169511,  4.66345205, 12.8358742 ,  5.54180838,\n",
       "        3.65871272,  1.83557957,  7.7935751 , 10.01835185,  8.5579437 ,\n",
       "       10.70483325,  7.24429658,  1.50020055,  2.92292153,  2.69098347,\n",
       "        3.14127869, 12.96450872, 10.81740112,  6.05039429,  8.34151534,\n",
       "        5.23574526,  6.97678171,  8.37656233,  3.18358452,  6.29173798,\n",
       "        5.87460984,  3.71583011,  9.24281548,  9.12869518, 10.79898732,\n",
       "        7.33360004,  8.03689101, 10.57716814,  6.54821274,  5.23848376,\n",
       "       11.91321775,  5.58372515,  8.07523534,  6.00987099, 10.85917614,\n",
       "        5.42145066,  3.71942132,  9.21412335, 10.62064932, 13.19513518])"
      ]
     },
     "execution_count": 252,
     "metadata": {},
     "output_type": "execute_result"
    }
   ],
   "source": [
    "y_pred1"
   ]
  },
  {
   "cell_type": "code",
   "execution_count": 253,
   "id": "94eee88c",
   "metadata": {},
   "outputs": [
    {
     "name": "stdout",
     "output_type": "stream",
     "text": [
      "20.08239561479477\n",
      "3.3136434614422594\n",
      "4.481338596311907\n"
     ]
    }
   ],
   "source": [
    "# Performance Metrics\n",
    "from sklearn.metrics import mean_absolute_error,mean_squared_error\n",
    "mse=mean_squared_error(y1_test,y_pred1)\n",
    "mae=mean_absolute_error(y1_test,y_pred1)\n",
    "rmse=np.sqrt(mse)\n",
    "print(mse)\n",
    "print(mae)\n",
    "print(rmse)"
   ]
  },
  {
   "cell_type": "code",
   "execution_count": 254,
   "id": "6e519827",
   "metadata": {},
   "outputs": [
    {
     "name": "stdout",
     "output_type": "stream",
     "text": [
      "0.34214473229105213\n",
      "0.3354181958114105\n"
     ]
    }
   ],
   "source": [
    "from sklearn.metrics import r2_score\n",
    "score=r2_score(y1_test,y_pred1)\n",
    "print(score)\n",
    "#display adjusted R-squared\n",
    "print(1 - (1-score)*(len(y1_test)-1)/(len(y1_test)-x1_test.shape[1]-1))"
   ]
  },
  {
   "cell_type": "code",
   "execution_count": 255,
   "id": "f4b0e30b",
   "metadata": {},
   "outputs": [
    {
     "data": {
      "text/plain": [
       "<matplotlib.collections.PathCollection at 0x1dcfe182fd0>"
      ]
     },
     "execution_count": 255,
     "metadata": {},
     "output_type": "execute_result"
    },
    {
     "data": {
      "image/png": "[encoded data removed]",
      "text/plain": [
       "<Figure size 432x288 with 1 Axes>"
      ]
     },
     "metadata": {
      "needs_background": "light"
     },
     "output_type": "display_data"
    }
   ],
   "source": [
    "#Assumptions\n",
    "plt.scatter(y1_test,y_pred1)"
   ]
  },
  {
   "cell_type": "code",
   "execution_count": 256,
   "id": "4498aa32",
   "metadata": {},
   "outputs": [
    {
     "name": "stdout",
     "output_type": "stream",
     "text": [
      "1827    -3.845644\n",
      "1889     6.510198\n",
      "678     -2.238487\n",
      "351      4.113518\n",
      "1105    -0.669288\n",
      "          ...    \n",
      "1530     0.578549\n",
      "670      0.280579\n",
      "874     -5.214123\n",
      "482     13.379351\n",
      "422     -7.195135\n",
      "Name: WIND SPEED, Length: 495, dtype: float64\n"
     ]
    }
   ],
   "source": [
    "residuals=y1_test-y_pred1\n",
    "print(residuals)"
   ]
  },
  {
   "cell_type": "code",
   "execution_count": 257,
   "id": "82dcaf36",
   "metadata": {},
   "outputs": [
    {
     "data": {
      "text/plain": [
       "<seaborn.axisgrid.FacetGrid at 0x1dcfe1bdeb0>"
      ]
     },
     "execution_count": 257,
     "metadata": {},
     "output_type": "execute_result"
    },
    {
     "data": {
      "image/png": "[encoded data removed]",
      "text/plain": [
       "<Figure size 360x360 with 1 Axes>"
      ]
     },
     "metadata": {
      "needs_background": "light"
     },
     "output_type": "display_data"
    }
   ],
   "source": [
    "## Plot this residuals\n",
    "sns.displot(residuals,kind='kde') #kernal density estimation\n",
    "#normal distribution the model we have created is good"
   ]
  },
  {
   "cell_type": "code",
   "execution_count": 258,
   "id": "0a37595b",
   "metadata": {},
   "outputs": [
    {
     "data": {
      "text/plain": [
       "<matplotlib.collections.PathCollection at 0x1dcfe2601f0>"
      ]
     },
     "execution_count": 258,
     "metadata": {},
     "output_type": "execute_result"
    },
    {
     "data": {
      "image/png": "[encoded data removed]",
      "text/plain": [
       "<Figure size 432x288 with 1 Axes>"
      ]
     },
     "metadata": {
      "needs_background": "light"
     },
     "output_type": "display_data"
    }
   ],
   "source": [
    "## scatter plot with respect to prediction and residuals\n",
    "plt.scatter(y_pred1,residuals)"
   ]
  },
  {
   "cell_type": "code",
   "execution_count": 259,
   "id": "140d0af9",
   "metadata": {},
   "outputs": [
    {
     "data": {
      "text/plain": [
       "<matplotlib.collections.PathCollection at 0x1dcfe2abeb0>"
      ]
     },
     "execution_count": 259,
     "metadata": {},
     "output_type": "execute_result"
    },
    {
     "data": {
      "image/png": "[encoded data removed]",
      "text/plain": [
       "<Figure size 432x288 with 1 Axes>"
      ]
     },
     "metadata": {
      "needs_background": "light"
     },
     "output_type": "display_data"
    }
   ],
   "source": [
    "## scatter plot with respect to prediction and residuals\n",
    "plt.scatter(y_pred1,residuals)"
   ]
  },
  {
   "cell_type": "code",
   "execution_count": 260,
   "id": "bfd5842e",
   "metadata": {},
   "outputs": [],
   "source": [
    "import statsmodels.api as sm\n",
    "model1=sm.OLS(y1_train,x1_train).fit()"
   ]
  },
  {
   "cell_type": "code",
   "execution_count": 261,
   "id": "3d444c2f",
   "metadata": {},
   "outputs": [
    {
     "data": {
      "text/html": [
       "<table class=\"simpletable\">\n",
       "<caption>OLS Regression Results</caption>\n",
       "<tr>\n",
       "  <th>Dep. Variable:</th>       <td>WIND SPEED</td>    <th>  R-squared (uncentered):</th>      <td>   0.697</td>\n",
       "</tr>\n",
       "<tr>\n",
       "  <th>Model:</th>                   <td>OLS</td>       <th>  Adj. R-squared (uncentered):</th> <td>   0.696</td>\n",
       "</tr>\n",
       "<tr>\n",
       "  <th>Method:</th>             <td>Least Squares</td>  <th>  F-statistic:       </th>          <td>   680.2</td>\n",
       "</tr>\n",
       "<tr>\n",
       "  <th>Date:</th>             <td>Tue, 02 Apr 2024</td> <th>  Prob (F-statistic):</th>           <td>  0.00</td> \n",
       "</tr>\n",
       "<tr>\n",
       "  <th>Time:</th>                 <td>21:46:45</td>     <th>  Log-Likelihood:    </th>          <td> -4594.4</td>\n",
       "</tr>\n",
       "<tr>\n",
       "  <th>No. Observations:</th>      <td>  1482</td>      <th>  AIC:               </th>          <td>   9199.</td>\n",
       "</tr>\n",
       "<tr>\n",
       "  <th>Df Residuals:</th>          <td>  1477</td>      <th>  BIC:               </th>          <td>   9225.</td>\n",
       "</tr>\n",
       "<tr>\n",
       "  <th>Df Model:</th>              <td>     5</td>      <th>                     </th>              <td> </td>   \n",
       "</tr>\n",
       "<tr>\n",
       "  <th>Covariance Type:</th>      <td>nonrobust</td>    <th>                     </th>              <td> </td>   \n",
       "</tr>\n",
       "</table>\n",
       "<table class=\"simpletable\">\n",
       "<tr>\n",
       "             <td></td>               <th>coef</th>     <th>std err</th>      <th>t</th>      <th>P>|t|</th>  <th>[0.025</th>    <th>0.975]</th>  \n",
       "</tr>\n",
       "<tr>\n",
       "  <th> MAX TEMP</th>              <td>   -0.0200</td> <td>    0.044</td> <td>   -0.451</td> <td> 0.652</td> <td>   -0.107</td> <td>    0.067</td>\n",
       "</tr>\n",
       "<tr>\n",
       "  <th>MIN TEMP</th>               <td>   -0.0370</td> <td>    0.062</td> <td>   -0.600</td> <td> 0.549</td> <td>   -0.158</td> <td>    0.084</td>\n",
       "</tr>\n",
       "<tr>\n",
       "  <th>DBT</th>                    <td>    0.7846</td> <td>    0.117</td> <td>    6.727</td> <td> 0.000</td> <td>    0.556</td> <td>    1.013</td>\n",
       "</tr>\n",
       "<tr>\n",
       "  <th>WBT</th>                    <td>   -0.8206</td> <td>    0.315</td> <td>   -2.603</td> <td> 0.009</td> <td>   -1.439</td> <td>   -0.202</td>\n",
       "</tr>\n",
       "<tr>\n",
       "  <th>DEW POINT TEMPERATURE </th> <td>    0.2645</td> <td>    0.182</td> <td>    1.452</td> <td> 0.147</td> <td>   -0.093</td> <td>    0.622</td>\n",
       "</tr>\n",
       "</table>\n",
       "<table class=\"simpletable\">\n",
       "<tr>\n",
       "  <th>Omnibus:</th>       <td>397.795</td> <th>  Durbin-Watson:     </th> <td>   1.990</td> \n",
       "</tr>\n",
       "<tr>\n",
       "  <th>Prob(Omnibus):</th> <td> 0.000</td>  <th>  Jarque-Bera (JB):  </th> <td>1135.460</td> \n",
       "</tr>\n",
       "<tr>\n",
       "  <th>Skew:</th>          <td> 1.370</td>  <th>  Prob(JB):          </th> <td>2.74e-247</td>\n",
       "</tr>\n",
       "<tr>\n",
       "  <th>Kurtosis:</th>      <td> 6.298</td>  <th>  Cond. No.          </th> <td>    161.</td> \n",
       "</tr>\n",
       "</table><br/><br/>Notes:<br/>[1] R² is computed without centering (uncentered) since the model does not contain a constant.<br/>[2] Standard Errors assume that the covariance matrix of the errors is correctly specified."
      ],
      "text/plain": [
       "<class 'statsmodels.iolib.summary.Summary'>\n",
       "\"\"\"\n",
       "                                 OLS Regression Results                                \n",
       "=======================================================================================\n",
       "Dep. Variable:             WIND SPEED   R-squared (uncentered):                   0.697\n",
       "Model:                            OLS   Adj. R-squared (uncentered):              0.696\n",
       "Method:                 Least Squares   F-statistic:                              680.2\n",
       "Date:                Tue, 02 Apr 2024   Prob (F-statistic):                        0.00\n",
       "Time:                        21:46:45   Log-Likelihood:                         -4594.4\n",
       "No. Observations:                1482   AIC:                                      9199.\n",
       "Df Residuals:                    1477   BIC:                                      9225.\n",
       "Df Model:                           5                                                  \n",
       "Covariance Type:            nonrobust                                                  \n",
       "==========================================================================================\n",
       "                             coef    std err          t      P>|t|      [0.025      0.975]\n",
       "------------------------------------------------------------------------------------------\n",
       " MAX TEMP                 -0.0200      0.044     -0.451      0.652      -0.107       0.067\n",
       "MIN TEMP                  -0.0370      0.062     -0.600      0.549      -0.158       0.084\n",
       "DBT                        0.7846      0.117      6.727      0.000       0.556       1.013\n",
       "WBT                       -0.8206      0.315     -2.603      0.009      -1.439      -0.202\n",
       "DEW POINT TEMPERATURE      0.2645      0.182      1.452      0.147      -0.093       0.622\n",
       "==============================================================================\n",
       "Omnibus:                      397.795   Durbin-Watson:                   1.990\n",
       "Prob(Omnibus):                  0.000   Jarque-Bera (JB):             1135.460\n",
       "Skew:                           1.370   Prob(JB):                    2.74e-247\n",
       "Kurtosis:                       6.298   Cond. No.                         161.\n",
       "==============================================================================\n",
       "\n",
       "Notes:\n",
       "[1] R² is computed without centering (uncentered) since the model does not contain a constant.\n",
       "[2] Standard Errors assume that the covariance matrix of the errors is correctly specified.\n",
       "\"\"\""
      ]
     },
     "execution_count": 261,
     "metadata": {},
     "output_type": "execute_result"
    }
   ],
   "source": [
    "model1.summary()"
   ]
  },
  {
   "cell_type": "code",
   "execution_count": 262,
   "id": "cf58d0d0",
   "metadata": {},
   "outputs": [
    {
     "name": "stdout",
     "output_type": "stream",
     "text": [
      "[ 0.05677195 -0.03552104  2.58517599 -0.42738132  0.20190004]\n"
     ]
    }
   ],
   "source": [
    "print(regression.coef_)"
   ]
  },
  {
   "cell_type": "markdown",
   "id": "f270a9e5",
   "metadata": {},
   "source": [
    "# STEP 5 : Interface"
   ]
  },
  {
   "cell_type": "code",
   "execution_count": 263,
   "id": "e0ef8678",
   "metadata": {},
   "outputs": [
    {
     "name": "stderr",
     "output_type": "stream",
     "text": [
      "ERROR: Invalid requirement: '#'\n",
      "ERROR: Invalid requirement: '#designing'\n"
     ]
    }
   ],
   "source": [
    "!pip install -q pyngrok # for creating local address sp that user can use our app\n",
    "!pip install -q streamlit #designing the frontend pf ML app"
   ]
  },
  {
   "cell_type": "code",
   "execution_count": 264,
   "id": "31c7575e",
   "metadata": {},
   "outputs": [],
   "source": [
    "import pickle\n",
    "pickle_out=open('windspeed1.pkl','wb')\n",
    "pickle.dump(regression,pickle_out)\n",
    "pickle_out.close()\n",
    "     "
   ]
  },
  {
   "cell_type": "code",
   "execution_count": null,
   "id": "ba4cd2dd",
   "metadata": {},
   "outputs": [],
   "source": []
  }
 ],
 "metadata": {
  "kernelspec": {
   "display_name": "Python 3 (ipykernel)",
   "language": "python",
   "name": "python3"
  },
  "language_info": {
   "codemirror_mode": {
    "name": "ipython",
    "version": 3
   },
   "file_extension": ".py",
   "mimetype": "text/x-python",
   "name": "python",
   "nbconvert_exporter": "python",
   "pygments_lexer": "ipython3",
   "version": "3.9.12"
  }
 },
 "nbformat": 4,
 "nbformat_minor": 5
}
